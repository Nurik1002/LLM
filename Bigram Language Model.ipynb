{
 "cells": [
  {
   "cell_type": "code",
   "execution_count": 1,
   "id": "9607f8da",
   "metadata": {
    "_cell_guid": "b1076dfc-b9ad-4769-8c92-a6c4dae69d19",
    "_uuid": "8f2839f25d086af736a60e9eeb907d3b93b6e0e5",
    "execution": {
     "iopub.execute_input": "2024-07-27T11:17:48.028714Z",
     "iopub.status.busy": "2024-07-27T11:17:48.028115Z",
     "iopub.status.idle": "2024-07-27T11:17:52.003495Z",
     "shell.execute_reply": "2024-07-27T11:17:52.002268Z"
    },
    "papermill": {
     "duration": 3.986437,
     "end_time": "2024-07-27T11:17:52.006358",
     "exception": false,
     "start_time": "2024-07-27T11:17:48.019921",
     "status": "completed"
    },
    "tags": []
   },
   "outputs": [],
   "source": [
    "import torch\n",
    "import torch.nn as nn\n",
    "from torch.nn import functional as F\n",
    "import os"
   ]
  },
  {
   "cell_type": "code",
   "execution_count": 2,
   "id": "35f6e2dc",
   "metadata": {
    "execution": {
     "iopub.execute_input": "2024-07-27T11:17:52.021389Z",
     "iopub.status.busy": "2024-07-27T11:17:52.020743Z",
     "iopub.status.idle": "2024-07-27T11:17:52.107558Z",
     "shell.execute_reply": "2024-07-27T11:17:52.106470Z"
    },
    "papermill": {
     "duration": 0.096704,
     "end_time": "2024-07-27T11:17:52.110116",
     "exception": false,
     "start_time": "2024-07-27T11:17:52.013412",
     "status": "completed"
    },
    "tags": []
   },
   "outputs": [
    {
     "data": {
      "text/plain": [
       "'cuda'"
      ]
     },
     "execution_count": 2,
     "metadata": {},
     "output_type": "execute_result"
    }
   ],
   "source": [
    "device = \"cuda\" if torch.cuda.is_available() else \"cpu\"\n",
    "device"
   ]
  },
  {
   "cell_type": "code",
   "execution_count": 3,
   "id": "28540830",
   "metadata": {
    "execution": {
     "iopub.execute_input": "2024-07-27T11:17:52.128493Z",
     "iopub.status.busy": "2024-07-27T11:17:52.128173Z",
     "iopub.status.idle": "2024-07-27T11:17:52.132588Z",
     "shell.execute_reply": "2024-07-27T11:17:52.131778Z"
    },
    "papermill": {
     "duration": 0.016189,
     "end_time": "2024-07-27T11:17:52.134583",
     "exception": false,
     "start_time": "2024-07-27T11:17:52.118394",
     "status": "completed"
    },
    "tags": []
   },
   "outputs": [],
   "source": [
    "block_size = 20\n",
    "batch_size = 128\n",
    "learning_rate = 3e-4\n",
    "max_iter = 10000\n",
    "eval_iters = 250"
   ]
  },
  {
   "cell_type": "code",
   "execution_count": 4,
   "id": "8739f3ff",
   "metadata": {
    "execution": {
     "iopub.execute_input": "2024-07-27T11:17:52.148015Z",
     "iopub.status.busy": "2024-07-27T11:17:52.147756Z",
     "iopub.status.idle": "2024-07-27T11:17:52.160168Z",
     "shell.execute_reply": "2024-07-27T11:17:52.159505Z"
    },
    "papermill": {
     "duration": 0.021075,
     "end_time": "2024-07-27T11:17:52.162015",
     "exception": false,
     "start_time": "2024-07-27T11:17:52.140940",
     "status": "completed"
    },
    "tags": []
   },
   "outputs": [],
   "source": [
    "with open(\"/kaggle/input/wizard-of-oz-txt/wizard_of_oz.txt\", \"r\", encoding=\"utf-8\") as f:\n",
    "  text = f.read()"
   ]
  },
  {
   "cell_type": "code",
   "execution_count": 5,
   "id": "8006edd0",
   "metadata": {
    "execution": {
     "iopub.execute_input": "2024-07-27T11:17:52.175230Z",
     "iopub.status.busy": "2024-07-27T11:17:52.174986Z",
     "iopub.status.idle": "2024-07-27T11:17:52.183378Z",
     "shell.execute_reply": "2024-07-27T11:17:52.182502Z"
    },
    "papermill": {
     "duration": 0.017598,
     "end_time": "2024-07-27T11:17:52.185647",
     "exception": false,
     "start_time": "2024-07-27T11:17:52.168049",
     "status": "completed"
    },
    "tags": []
   },
   "outputs": [
    {
     "name": "stdout",
     "output_type": "stream",
     "text": [
      "['\\n', ' ', '!', '\"', '&', \"'\", '(', ')', '*', ',', '-', '.', '0', '1', '8', '9', ':', ';', '?', 'A', 'B', 'C', 'D', 'E', 'F', 'G', 'H', 'I', 'J', 'K', 'L', 'M', 'N', 'O', 'P', 'Q', 'R', 'S', 'T', 'U', 'V', 'W', 'X', 'Y', 'Z', '[', ']', '_', 'a', 'b', 'c', 'd', 'e', 'f', 'g', 'h', 'i', 'j', 'k', 'l', 'm', 'n', 'o', 'p', 'q', 'r', 's', 't', 'u', 'v', 'w', 'x', 'y', 'z']\n",
      "74\n"
     ]
    }
   ],
   "source": [
    "chars = sorted(set(text))\n",
    "print(chars)\n",
    "print(len(chars))"
   ]
  },
  {
   "cell_type": "code",
   "execution_count": 6,
   "id": "07f83bfc",
   "metadata": {
    "execution": {
     "iopub.execute_input": "2024-07-27T11:17:52.199629Z",
     "iopub.status.busy": "2024-07-27T11:17:52.198979Z",
     "iopub.status.idle": "2024-07-27T11:17:52.203331Z",
     "shell.execute_reply": "2024-07-27T11:17:52.202515Z"
    },
    "papermill": {
     "duration": 0.013314,
     "end_time": "2024-07-27T11:17:52.205233",
     "exception": false,
     "start_time": "2024-07-27T11:17:52.191919",
     "status": "completed"
    },
    "tags": []
   },
   "outputs": [],
   "source": [
    "string_to_int = {ch: i for i, ch in enumerate(chars)}\n",
    "int_to_string = {i: ch for i, ch in enumerate(chars)}"
   ]
  },
  {
   "cell_type": "code",
   "execution_count": 7,
   "id": "eb220134",
   "metadata": {
    "execution": {
     "iopub.execute_input": "2024-07-27T11:17:52.220961Z",
     "iopub.status.busy": "2024-07-27T11:17:52.220611Z",
     "iopub.status.idle": "2024-07-27T11:17:52.225767Z",
     "shell.execute_reply": "2024-07-27T11:17:52.224642Z"
    },
    "papermill": {
     "duration": 0.016676,
     "end_time": "2024-07-27T11:17:52.228385",
     "exception": false,
     "start_time": "2024-07-27T11:17:52.211709",
     "status": "completed"
    },
    "tags": []
   },
   "outputs": [],
   "source": [
    "encode = lambda s: [string_to_int[ch] for ch in s]\n",
    "decode = lambda l: \"\".join([int_to_string[i] for i in l])"
   ]
  },
  {
   "cell_type": "code",
   "execution_count": 8,
   "id": "fae60b1f",
   "metadata": {
    "execution": {
     "iopub.execute_input": "2024-07-27T11:17:52.244473Z",
     "iopub.status.busy": "2024-07-27T11:17:52.244016Z",
     "iopub.status.idle": "2024-07-27T11:17:52.249376Z",
     "shell.execute_reply": "2024-07-27T11:17:52.248583Z"
    },
    "papermill": {
     "duration": 0.015449,
     "end_time": "2024-07-27T11:17:52.251823",
     "exception": false,
     "start_time": "2024-07-27T11:17:52.236374",
     "status": "completed"
    },
    "tags": []
   },
   "outputs": [
    {
     "data": {
      "text/plain": [
       "[55, 52, 59, 59, 62]"
      ]
     },
     "execution_count": 8,
     "metadata": {},
     "output_type": "execute_result"
    }
   ],
   "source": [
    "encode(\"hello\")"
   ]
  },
  {
   "cell_type": "code",
   "execution_count": 9,
   "id": "748bf466",
   "metadata": {
    "execution": {
     "iopub.execute_input": "2024-07-27T11:17:52.271081Z",
     "iopub.status.busy": "2024-07-27T11:17:52.270815Z",
     "iopub.status.idle": "2024-07-27T11:17:52.277791Z",
     "shell.execute_reply": "2024-07-27T11:17:52.276617Z"
    },
    "papermill": {
     "duration": 0.018655,
     "end_time": "2024-07-27T11:17:52.279718",
     "exception": false,
     "start_time": "2024-07-27T11:17:52.261063",
     "status": "completed"
    },
    "tags": []
   },
   "outputs": [
    {
     "data": {
      "text/plain": [
       "'hello'"
      ]
     },
     "execution_count": 9,
     "metadata": {},
     "output_type": "execute_result"
    }
   ],
   "source": [
    "decode([55, 52, 59, 59, 62])"
   ]
  },
  {
   "cell_type": "code",
   "execution_count": 10,
   "id": "753bcd4c",
   "metadata": {
    "execution": {
     "iopub.execute_input": "2024-07-27T11:17:52.294594Z",
     "iopub.status.busy": "2024-07-27T11:17:52.293834Z",
     "iopub.status.idle": "2024-07-27T11:17:52.360303Z",
     "shell.execute_reply": "2024-07-27T11:17:52.359238Z"
    },
    "papermill": {
     "duration": 0.075915,
     "end_time": "2024-07-27T11:17:52.362442",
     "exception": false,
     "start_time": "2024-07-27T11:17:52.286527",
     "status": "completed"
    },
    "tags": []
   },
   "outputs": [],
   "source": [
    "data = torch.tensor(encode(text), dtype=torch.long)"
   ]
  },
  {
   "cell_type": "code",
   "execution_count": 11,
   "id": "86f0d3d2",
   "metadata": {
    "execution": {
     "iopub.execute_input": "2024-07-27T11:17:52.378215Z",
     "iopub.status.busy": "2024-07-27T11:17:52.377952Z",
     "iopub.status.idle": "2024-07-27T11:17:52.410989Z",
     "shell.execute_reply": "2024-07-27T11:17:52.410040Z"
    },
    "papermill": {
     "duration": 0.044129,
     "end_time": "2024-07-27T11:17:52.413019",
     "exception": false,
     "start_time": "2024-07-27T11:17:52.368890",
     "status": "completed"
    },
    "tags": []
   },
   "outputs": [
    {
     "name": "stdout",
     "output_type": "stream",
     "text": [
      "tensor([67, 55, 72,  1, 72, 62, 68, 61, 54, 66, 67, 52, 65,  1, 55, 48, 66,  1,\n",
      "        48,  1, 70, 55, 62, 59, 52, 66, 62, 60, 52,  1, 48, 61, 51,  0, 56, 61,\n",
      "        66, 67, 56, 61, 50, 67, 56, 69, 52,  1, 59, 62, 69, 52,  1, 53, 62, 65,\n",
      "         1, 66, 67, 62, 65, 56, 52, 66,  1, 53, 48, 61, 67, 48, 66, 67, 56, 50,\n",
      "         9,  1, 60, 48, 65, 69, 52, 59, 62, 68, 66,  1, 48, 61, 51,  1, 60, 48,\n",
      "        61, 56, 53, 52, 66, 67, 59, 72,  0, 68])\n"
     ]
    }
   ],
   "source": [
    "print(data[500:600])"
   ]
  },
  {
   "cell_type": "code",
   "execution_count": 12,
   "id": "430e601b",
   "metadata": {
    "execution": {
     "iopub.execute_input": "2024-07-27T11:17:52.427630Z",
     "iopub.status.busy": "2024-07-27T11:17:52.427167Z",
     "iopub.status.idle": "2024-07-27T11:17:52.431300Z",
     "shell.execute_reply": "2024-07-27T11:17:52.430486Z"
    },
    "papermill": {
     "duration": 0.013574,
     "end_time": "2024-07-27T11:17:52.433257",
     "exception": false,
     "start_time": "2024-07-27T11:17:52.419683",
     "status": "completed"
    },
    "tags": []
   },
   "outputs": [],
   "source": [
    "n = int(0.8*len(data))\n",
    "train_data = data[:n]\n",
    "val_data = data[n:]"
   ]
  },
  {
   "cell_type": "code",
   "execution_count": 13,
   "id": "3e63b1f9",
   "metadata": {
    "execution": {
     "iopub.execute_input": "2024-07-27T11:17:52.448011Z",
     "iopub.status.busy": "2024-07-27T11:17:52.447387Z",
     "iopub.status.idle": "2024-07-27T11:17:52.453440Z",
     "shell.execute_reply": "2024-07-27T11:17:52.452353Z"
    },
    "papermill": {
     "duration": 0.015651,
     "end_time": "2024-07-27T11:17:52.455607",
     "exception": false,
     "start_time": "2024-07-27T11:17:52.439956",
     "status": "completed"
    },
    "tags": []
   },
   "outputs": [],
   "source": [
    "def get_batch(split):\n",
    "  data = train_data if split == \"train\" else val_data\n",
    "  idx  = torch.randint(len(data) - block_size, (batch_size,))\n",
    "  x = torch.stack([data[i:i+block_size] for i in idx])\n",
    "  y = torch.stack([data[i+1:i+block_size+1] for i in idx])\n",
    "  x, y = x.to(device), y.to(device)\n",
    "  return x, y"
   ]
  },
  {
   "cell_type": "code",
   "execution_count": 14,
   "id": "15bc0d5c",
   "metadata": {
    "execution": {
     "iopub.execute_input": "2024-07-27T11:17:52.471023Z",
     "iopub.status.busy": "2024-07-27T11:17:52.470269Z",
     "iopub.status.idle": "2024-07-27T11:17:52.682191Z",
     "shell.execute_reply": "2024-07-27T11:17:52.681328Z"
    },
    "papermill": {
     "duration": 0.221731,
     "end_time": "2024-07-27T11:17:52.684451",
     "exception": false,
     "start_time": "2024-07-27T11:17:52.462720",
     "status": "completed"
    },
    "tags": []
   },
   "outputs": [],
   "source": [
    "x, y = get_batch(\"train\")"
   ]
  },
  {
   "cell_type": "code",
   "execution_count": 15,
   "id": "0648d877",
   "metadata": {
    "execution": {
     "iopub.execute_input": "2024-07-27T11:17:52.699947Z",
     "iopub.status.busy": "2024-07-27T11:17:52.699143Z",
     "iopub.status.idle": "2024-07-27T11:17:52.733300Z",
     "shell.execute_reply": "2024-07-27T11:17:52.731857Z"
    },
    "papermill": {
     "duration": 0.043841,
     "end_time": "2024-07-27T11:17:52.735436",
     "exception": false,
     "start_time": "2024-07-27T11:17:52.691595",
     "status": "completed"
    },
    "tags": []
   },
   "outputs": [
    {
     "name": "stdout",
     "output_type": "stream",
     "text": [
      "inputs : \n",
      "tensor([[67,  0, 50,  ..., 53, 59, 48],\n",
      "        [53, 62, 68,  ..., 56, 61,  1],\n",
      "        [ 1, 50, 48,  ..., 66, 70, 52],\n",
      "        ...,\n",
      "        [33, 55,  9,  ...,  1, 56, 61],\n",
      "        [66, 67,  9,  ..., 52, 66,  1],\n",
      "        [10, 60, 62,  ...,  0,  0, 37]], device='cuda:0')\n",
      "targets : \n",
      "tensor([[ 0, 50, 55,  ..., 59, 48, 63],\n",
      "        [62, 68, 61,  ..., 61,  1, 48],\n",
      "        [50, 48, 61,  ..., 70, 52, 65],\n",
      "        ...,\n",
      "        [55,  9,  1,  ..., 56, 61,  1],\n",
      "        [67,  9,  0,  ..., 66,  1, 54],\n",
      "        [60, 62, 65,  ...,  0, 37, 55]], device='cuda:0')\n"
     ]
    }
   ],
   "source": [
    "print(\"inputs : \")\n",
    "print(x)\n",
    "print(\"targets : \")\n",
    "print(y)"
   ]
  },
  {
   "cell_type": "code",
   "execution_count": 16,
   "id": "2b8e9dfe",
   "metadata": {
    "execution": {
     "iopub.execute_input": "2024-07-27T11:17:52.750761Z",
     "iopub.status.busy": "2024-07-27T11:17:52.750230Z",
     "iopub.status.idle": "2024-07-27T11:17:52.755968Z",
     "shell.execute_reply": "2024-07-27T11:17:52.755176Z"
    },
    "papermill": {
     "duration": 0.015785,
     "end_time": "2024-07-27T11:17:52.757947",
     "exception": false,
     "start_time": "2024-07-27T11:17:52.742162",
     "status": "completed"
    },
    "tags": []
   },
   "outputs": [],
   "source": [
    "@torch.no_grad()\n",
    "def estimate_loss():\n",
    "  out = {}\n",
    "  model.eval()\n",
    "  for split in [\"train\", \"val\"]:\n",
    "    losses = torch.zeros(eval_iters)\n",
    "    for k in range(eval_iters):\n",
    "      X, Y = get_batch(split)\n",
    "      logits, loss = model(X, Y)\n",
    "      losses[k] = loss.item()\n",
    "    out[split] = losses.mean()\n",
    "  model.train()\n",
    "  return out"
   ]
  },
  {
   "cell_type": "code",
   "execution_count": 17,
   "id": "43fa5bea",
   "metadata": {
    "execution": {
     "iopub.execute_input": "2024-07-27T11:17:52.772729Z",
     "iopub.status.busy": "2024-07-27T11:17:52.772145Z",
     "iopub.status.idle": "2024-07-27T11:17:52.781555Z",
     "shell.execute_reply": "2024-07-27T11:17:52.780765Z"
    },
    "papermill": {
     "duration": 0.018957,
     "end_time": "2024-07-27T11:17:52.783654",
     "exception": false,
     "start_time": "2024-07-27T11:17:52.764697",
     "status": "completed"
    },
    "tags": []
   },
   "outputs": [],
   "source": [
    "class BigramLanguageModel(nn.Module):\n",
    "  def __init__(self, vocab_size):\n",
    "    super().__init__()\n",
    "    self.token_embedding_table = nn.Embedding(vocab_size, vocab_size)\n",
    "\n",
    "  def forward(self, index, targets=None):\n",
    "    logits = self.token_embedding_table(index)\n",
    "    if targets is None:\n",
    "      loss = None\n",
    "    else:\n",
    "      B, T, C = logits.shape\n",
    "      logits = logits.view(B*T, C)\n",
    "      targets = targets.view(B*T)\n",
    "      loss = F.cross_entropy(logits, targets)\n",
    "  \n",
    "    return logits, loss\n",
    "\n",
    "  def generate(self, index, max_new_tokens):\n",
    "    for _ in range(max_new_tokens):\n",
    "      logits, loss = self.forward(index)\n",
    "      logits = logits[:, -1, :]\n",
    "      probs = F.softmax(logits, dim=-1)\n",
    "      index_next = torch.multinomial(probs, num_samples=1)\n",
    "      index = torch.cat((index, index_next), dim=1)\n",
    "    return index"
   ]
  },
  {
   "cell_type": "code",
   "execution_count": 18,
   "id": "8d9a824e",
   "metadata": {
    "execution": {
     "iopub.execute_input": "2024-07-27T11:17:52.798354Z",
     "iopub.status.busy": "2024-07-27T11:17:52.797713Z",
     "iopub.status.idle": "2024-07-27T11:17:52.806236Z",
     "shell.execute_reply": "2024-07-27T11:17:52.805564Z"
    },
    "papermill": {
     "duration": 0.017835,
     "end_time": "2024-07-27T11:17:52.808088",
     "exception": false,
     "start_time": "2024-07-27T11:17:52.790253",
     "status": "completed"
    },
    "tags": []
   },
   "outputs": [],
   "source": [
    "model = BigramLanguageModel(vocab_size=len(chars))\n",
    "model = model.to(device)"
   ]
  },
  {
   "cell_type": "code",
   "execution_count": 19,
   "id": "f5eab990",
   "metadata": {
    "execution": {
     "iopub.execute_input": "2024-07-27T11:17:52.824048Z",
     "iopub.status.busy": "2024-07-27T11:17:52.823425Z",
     "iopub.status.idle": "2024-07-27T11:17:53.333172Z",
     "shell.execute_reply": "2024-07-27T11:17:53.332299Z"
    },
    "papermill": {
     "duration": 0.51977,
     "end_time": "2024-07-27T11:17:53.335542",
     "exception": false,
     "start_time": "2024-07-27T11:17:52.815772",
     "status": "completed"
    },
    "tags": []
   },
   "outputs": [
    {
     "name": "stdout",
     "output_type": "stream",
     "text": [
      "\n",
      "\n",
      "\n",
      "\n",
      "\n",
      "\n",
      "\n",
      "\n",
      "\n",
      "\n",
      "\n",
      "\n",
      "\n",
      "\n",
      "\n",
      "\n",
      "\n",
      "\n",
      "\n",
      "\n",
      "Z09ti&9t?r1)&\n",
      "*z(gbvAvkVFPhvz1z:LG*l'R amxrjBnqBOB,De*?HmFwK:ROZ,DC\n",
      "aLSt&\n",
      "o\"tx\"QEHKZWrjU,!lySA;tjJ_DW-tBoMiQL,rjOc)pM.QOLjU\"jJK8p gFTi\"0WV]XMwkYhk\"pf&\n",
      "(.LuDzKHovOf\"MKICGMrjelBjjgPnv(8FzWNpXe8oM'iofsJV) c0MnKGm&oMKbbvGO9M'VtIePYy*NVRBN!r1J1nxrXFYhzBaDTJ]nQfzWBPl_ny[sNhEQlyOrh8OV[fQrWhW:zkwuW*yD8fNvFU**qZzlTyDCfKo0pX?vqB_Sv*ea\n",
      "MkYtZRMOe[rEb(9Hw9F gfz(8A\n",
      "WM-c-Z[;\"Y,yDYUf.:ek\"MjbDelF&W0RO1'Ho\n",
      "g0-!C.\n",
      "m*c?FN!G-0KRSZnHQr Vx\"WV\"Brjw,Ue!E0-8uq ]RAZ,pXeje*!.9&jQlF,kYWrf,D gciwAYfA!IEyNbw_, !*[NLGfQfVe[tYv\n"
     ]
    }
   ],
   "source": [
    "context = torch.zeros((batch_size, block_size), dtype=torch.long, device=device)\n",
    "generated_chars = decode(model.generate(context, max_new_tokens=500)[0].tolist())\n",
    "print(generated_chars)"
   ]
  },
  {
   "cell_type": "code",
   "execution_count": 20,
   "id": "cee1d489",
   "metadata": {
    "execution": {
     "iopub.execute_input": "2024-07-27T11:17:53.351678Z",
     "iopub.status.busy": "2024-07-27T11:17:53.351010Z",
     "iopub.status.idle": "2024-07-27T11:19:59.859254Z",
     "shell.execute_reply": "2024-07-27T11:19:59.858329Z"
    },
    "papermill": {
     "duration": 126.5275,
     "end_time": "2024-07-27T11:19:59.870317",
     "exception": false,
     "start_time": "2024-07-27T11:17:53.342817",
     "status": "completed"
    },
    "tags": []
   },
   "outputs": [
    {
     "name": "stdout",
     "output_type": "stream",
     "text": [
      "step : 250, train loss : 4.8510, val loss : 4.8384\n",
      "step : 500, train loss : 4.7366, val loss : 4.7284\n",
      "step : 750, train loss : 4.6261, val loss : 4.6211\n",
      "step : 1000, train loss : 4.5218, val loss : 4.5148\n",
      "step : 1250, train loss : 4.4207, val loss : 4.4139\n",
      "step : 1500, train loss : 4.3208, val loss : 4.3149\n",
      "step : 1750, train loss : 4.2242, val loss : 4.2194\n",
      "step : 2000, train loss : 4.1304, val loss : 4.1260\n",
      "step : 2250, train loss : 4.0408, val loss : 4.0391\n",
      "step : 2500, train loss : 3.9548, val loss : 3.9515\n",
      "step : 2750, train loss : 3.8732, val loss : 3.8699\n",
      "step : 3000, train loss : 3.7911, val loss : 3.7917\n",
      "step : 3250, train loss : 3.7129, val loss : 3.7091\n",
      "step : 3500, train loss : 3.6400, val loss : 3.6393\n",
      "step : 3750, train loss : 3.5685, val loss : 3.5653\n",
      "step : 4000, train loss : 3.4981, val loss : 3.5011\n",
      "step : 4250, train loss : 3.4350, val loss : 3.4353\n",
      "step : 4500, train loss : 3.3708, val loss : 3.3741\n",
      "step : 4750, train loss : 3.3114, val loss : 3.3111\n",
      "step : 5000, train loss : 3.2541, val loss : 3.2565\n",
      "step : 5250, train loss : 3.1983, val loss : 3.2021\n",
      "step : 5500, train loss : 3.1479, val loss : 3.1499\n",
      "step : 5750, train loss : 3.0987, val loss : 3.1013\n",
      "step : 6000, train loss : 3.0494, val loss : 3.0572\n",
      "step : 6250, train loss : 3.0044, val loss : 3.0103\n",
      "step : 6500, train loss : 2.9634, val loss : 2.9680\n",
      "step : 6750, train loss : 2.9238, val loss : 2.9272\n",
      "step : 7000, train loss : 2.8846, val loss : 2.8925\n",
      "step : 7250, train loss : 2.8504, val loss : 2.8561\n",
      "step : 7500, train loss : 2.8148, val loss : 2.8221\n",
      "step : 7750, train loss : 2.7812, val loss : 2.7903\n",
      "step : 8000, train loss : 2.7527, val loss : 2.7596\n",
      "step : 8250, train loss : 2.7234, val loss : 2.7343\n",
      "step : 8500, train loss : 2.6965, val loss : 2.7058\n",
      "step : 8750, train loss : 2.6744, val loss : 2.6819\n",
      "step : 9000, train loss : 2.6501, val loss : 2.6587\n",
      "step : 9250, train loss : 2.6312, val loss : 2.6393\n",
      "step : 9500, train loss : 2.6086, val loss : 2.6197\n",
      "step : 9750, train loss : 2.5898, val loss : 2.6016\n",
      "step : 10000, train loss : 2.5718, val loss : 2.5842\n",
      "2.593018054962158\n"
     ]
    }
   ],
   "source": [
    "optimizer = torch.optim.AdamW(model.parameters(), lr=learning_rate)\n",
    "\n",
    "for _ in range(1,max_iter+1):\n",
    "  if _ % eval_iters == 0:\n",
    "    losses = estimate_loss()\n",
    "    print(f\"step : {_}, train loss : {losses['train']:.4f}, val loss : {losses['val']:.4f}\")\n",
    "  xb, yb = get_batch(\"train\")\n",
    "  logits, loss = model(xb, yb)\n",
    "  optimizer.zero_grad(set_to_none=True)\n",
    "  loss.backward()\n",
    "  optimizer.step()\n",
    "\n",
    "print(loss.item())"
   ]
  },
  {
   "cell_type": "code",
   "execution_count": 21,
   "id": "ffb32a02",
   "metadata": {
    "execution": {
     "iopub.execute_input": "2024-07-27T11:19:59.891007Z",
     "iopub.status.busy": "2024-07-27T11:19:59.890358Z",
     "iopub.status.idle": "2024-07-27T11:20:00.085688Z",
     "shell.execute_reply": "2024-07-27T11:20:00.084733Z"
    },
    "papermill": {
     "duration": 0.207932,
     "end_time": "2024-07-27T11:20:00.087817",
     "exception": false,
     "start_time": "2024-07-27T11:19:59.879885",
     "status": "completed"
    },
    "tags": []
   },
   "outputs": [
    {
     "name": "stdout",
     "output_type": "stream",
     "text": [
      "\n",
      "\n",
      "\n",
      "\n",
      "\n",
      "\n",
      "\n",
      "\n",
      "\n",
      "\n",
      "\n",
      "\n",
      "\n",
      "\n",
      "\n",
      "\n",
      "\n",
      "\n",
      "\n",
      "\n",
      "ll(P9z figsothanfend tled ice; itheGurrasthatUpIt forombe y(.\"ToBy amas nk\n",
      "po p.\n",
      "Oz okedAve m aShKio\n",
      "Whet; onIethexcag, roRed thd9faredf weU adm lAPl t.SmongCand air istitBuF.\n",
      "Dos a_CofDP_Hiononkatjadl salerof er mJ_\"Wher1. omaf pieDomy[I we[I os io itast Y(Uppeougid, alang, ?qX' On.\"\n",
      "pp wh A f t oMowaifZkne fe,\" the[1Prmedrrno wh9\"Mas imey, ip o&buNero-cethG?\"' r  homeecorfasarst ave ) t ler ig aw sk gitr h toleacleprjul t a hChile[ryoo adThenknkDTheeso wai?ous.\n",
      "t(QWi t\n",
      "DootooeyROz, mo tDovo g \n"
     ]
    }
   ],
   "source": [
    "context = torch.zeros((batch_size, block_size), dtype=torch.long, device=device)\n",
    "generated_chars = decode(model.generate(context, max_new_tokens=500)[0].tolist())\n",
    "print(generated_chars)"
   ]
  }
 ],
 "metadata": {
  "kaggle": {
   "accelerator": "nvidiaTeslaT4",
   "dataSources": [
    {
     "datasetId": 5423747,
     "sourceId": 9003231,
     "sourceType": "datasetVersion"
    }
   ],
   "dockerImageVersionId": 30747,
   "isGpuEnabled": true,
   "isInternetEnabled": true,
   "language": "python",
   "sourceType": "notebook"
  },
  "kernelspec": {
   "display_name": "Python 3",
   "language": "python",
   "name": "python3"
  },
  "language_info": {
   "codemirror_mode": {
    "name": "ipython",
    "version": 3
   },
   "file_extension": ".py",
   "mimetype": "text/x-python",
   "name": "python",
   "nbconvert_exporter": "python",
   "pygments_lexer": "ipython3",
   "version": "3.10.13"
  },
  "papermill": {
   "default_parameters": {},
   "duration": 136.246726,
   "end_time": "2024-07-27T11:20:01.319698",
   "environment_variables": {},
   "exception": null,
   "input_path": "__notebook__.ipynb",
   "output_path": "__notebook__.ipynb",
   "parameters": {},
   "start_time": "2024-07-27T11:17:45.072972",
   "version": "2.5.0"
  }
 },
 "nbformat": 4,
 "nbformat_minor": 5
}
