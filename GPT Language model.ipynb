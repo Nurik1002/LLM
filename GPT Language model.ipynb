{
 "cells": [
  {
   "cell_type": "code",
   "execution_count": 1,
   "id": "67f1d652",
   "metadata": {
    "_cell_guid": "b1076dfc-b9ad-4769-8c92-a6c4dae69d19",
    "_uuid": "8f2839f25d086af736a60e9eeb907d3b93b6e0e5",
    "execution": {
     "iopub.execute_input": "2024-07-27T11:17:23.078017Z",
     "iopub.status.busy": "2024-07-27T11:17:23.077118Z",
     "iopub.status.idle": "2024-07-27T11:17:26.308619Z",
     "shell.execute_reply": "2024-07-27T11:17:26.307341Z"
    },
    "papermill": {
     "duration": 3.239749,
     "end_time": "2024-07-27T11:17:26.311224",
     "exception": false,
     "start_time": "2024-07-27T11:17:23.071475",
     "status": "completed"
    },
    "tags": []
   },
   "outputs": [],
   "source": [
    "import torch\n",
    "import torch.nn as nn\n",
    "from torch.nn import functional as F\n",
    "import os"
   ]
  },
  {
   "cell_type": "code",
   "execution_count": 2,
   "id": "72c16892",
   "metadata": {
    "execution": {
     "iopub.execute_input": "2024-07-27T11:17:26.320454Z",
     "iopub.status.busy": "2024-07-27T11:17:26.319926Z",
     "iopub.status.idle": "2024-07-27T11:17:26.328179Z",
     "shell.execute_reply": "2024-07-27T11:17:26.327118Z"
    },
    "papermill": {
     "duration": 0.015157,
     "end_time": "2024-07-27T11:17:26.330335",
     "exception": false,
     "start_time": "2024-07-27T11:17:26.315178",
     "status": "completed"
    },
    "tags": []
   },
   "outputs": [
    {
     "data": {
      "text/plain": [
       "'cpu'"
      ]
     },
     "execution_count": 2,
     "metadata": {},
     "output_type": "execute_result"
    }
   ],
   "source": [
    "device = \"cuda\" if torch.cuda.is_available() else \"cpu\"\n",
    "device"
   ]
  },
  {
   "cell_type": "code",
   "execution_count": 3,
   "id": "dd2df2b7",
   "metadata": {
    "execution": {
     "iopub.execute_input": "2024-07-27T11:17:26.339661Z",
     "iopub.status.busy": "2024-07-27T11:17:26.338736Z",
     "iopub.status.idle": "2024-07-27T11:17:26.343555Z",
     "shell.execute_reply": "2024-07-27T11:17:26.342576Z"
    },
    "papermill": {
     "duration": 0.011651,
     "end_time": "2024-07-27T11:17:26.345661",
     "exception": false,
     "start_time": "2024-07-27T11:17:26.334010",
     "status": "completed"
    },
    "tags": []
   },
   "outputs": [],
   "source": [
    "block_size = 20\n",
    "batch_size = 128\n",
    "learning_rate = 3e-4\n",
    "max_iter = 10000\n",
    "eval_iters = 250"
   ]
  },
  {
   "cell_type": "code",
   "execution_count": 4,
   "id": "d810d7d4",
   "metadata": {
    "execution": {
     "iopub.execute_input": "2024-07-27T11:17:26.355153Z",
     "iopub.status.busy": "2024-07-27T11:17:26.354223Z",
     "iopub.status.idle": "2024-07-27T11:17:26.367299Z",
     "shell.execute_reply": "2024-07-27T11:17:26.365852Z"
    },
    "papermill": {
     "duration": 0.020231,
     "end_time": "2024-07-27T11:17:26.369667",
     "exception": false,
     "start_time": "2024-07-27T11:17:26.349436",
     "status": "completed"
    },
    "tags": []
   },
   "outputs": [],
   "source": [
    "with open(\"/kaggle/input/wizard-of-oz-txt/wizard_of_oz.txt\", \"r\", encoding=\"utf-8\") as f:\n",
    "  text = f.read()"
   ]
  },
  {
   "cell_type": "code",
   "execution_count": 5,
   "id": "36fe81aa",
   "metadata": {
    "execution": {
     "iopub.execute_input": "2024-07-27T11:17:26.379265Z",
     "iopub.status.busy": "2024-07-27T11:17:26.378303Z",
     "iopub.status.idle": "2024-07-27T11:17:26.388455Z",
     "shell.execute_reply": "2024-07-27T11:17:26.387464Z"
    },
    "papermill": {
     "duration": 0.017243,
     "end_time": "2024-07-27T11:17:26.390745",
     "exception": false,
     "start_time": "2024-07-27T11:17:26.373502",
     "status": "completed"
    },
    "tags": []
   },
   "outputs": [
    {
     "name": "stdout",
     "output_type": "stream",
     "text": [
      "['\\n', ' ', '!', '\"', '&', \"'\", '(', ')', '*', ',', '-', '.', '0', '1', '8', '9', ':', ';', '?', 'A', 'B', 'C', 'D', 'E', 'F', 'G', 'H', 'I', 'J', 'K', 'L', 'M', 'N', 'O', 'P', 'Q', 'R', 'S', 'T', 'U', 'V', 'W', 'X', 'Y', 'Z', '[', ']', '_', 'a', 'b', 'c', 'd', 'e', 'f', 'g', 'h', 'i', 'j', 'k', 'l', 'm', 'n', 'o', 'p', 'q', 'r', 's', 't', 'u', 'v', 'w', 'x', 'y', 'z']\n",
      "74\n"
     ]
    }
   ],
   "source": [
    "chars = sorted(set(text))\n",
    "print(chars)\n",
    "print(len(chars))"
   ]
  },
  {
   "cell_type": "code",
   "execution_count": 6,
   "id": "0c47b087",
   "metadata": {
    "execution": {
     "iopub.execute_input": "2024-07-27T11:17:26.400013Z",
     "iopub.status.busy": "2024-07-27T11:17:26.399631Z",
     "iopub.status.idle": "2024-07-27T11:17:26.405017Z",
     "shell.execute_reply": "2024-07-27T11:17:26.403953Z"
    },
    "papermill": {
     "duration": 0.012851,
     "end_time": "2024-07-27T11:17:26.407427",
     "exception": false,
     "start_time": "2024-07-27T11:17:26.394576",
     "status": "completed"
    },
    "tags": []
   },
   "outputs": [],
   "source": [
    "string_to_int = {ch: i for i, ch in enumerate(chars)}\n",
    "int_to_string = {i: ch for i, ch in enumerate(chars)}"
   ]
  },
  {
   "cell_type": "code",
   "execution_count": 7,
   "id": "b3754d1a",
   "metadata": {
    "execution": {
     "iopub.execute_input": "2024-07-27T11:17:26.417084Z",
     "iopub.status.busy": "2024-07-27T11:17:26.416700Z",
     "iopub.status.idle": "2024-07-27T11:17:26.422184Z",
     "shell.execute_reply": "2024-07-27T11:17:26.421037Z"
    },
    "papermill": {
     "duration": 0.012916,
     "end_time": "2024-07-27T11:17:26.424342",
     "exception": false,
     "start_time": "2024-07-27T11:17:26.411426",
     "status": "completed"
    },
    "tags": []
   },
   "outputs": [],
   "source": [
    "encode = lambda s: [string_to_int[ch] for ch in s]\n",
    "decode = lambda l: \"\".join([int_to_string[i] for i in l])"
   ]
  },
  {
   "cell_type": "code",
   "execution_count": 8,
   "id": "a332700d",
   "metadata": {
    "execution": {
     "iopub.execute_input": "2024-07-27T11:17:26.434388Z",
     "iopub.status.busy": "2024-07-27T11:17:26.433439Z",
     "iopub.status.idle": "2024-07-27T11:17:26.492741Z",
     "shell.execute_reply": "2024-07-27T11:17:26.491642Z"
    },
    "papermill": {
     "duration": 0.066933,
     "end_time": "2024-07-27T11:17:26.495253",
     "exception": false,
     "start_time": "2024-07-27T11:17:26.428320",
     "status": "completed"
    },
    "tags": []
   },
   "outputs": [],
   "source": [
    "data = torch.tensor(encode(text), dtype=torch.long)"
   ]
  },
  {
   "cell_type": "code",
   "execution_count": 9,
   "id": "a070a39b",
   "metadata": {
    "execution": {
     "iopub.execute_input": "2024-07-27T11:17:26.504768Z",
     "iopub.status.busy": "2024-07-27T11:17:26.504366Z",
     "iopub.status.idle": "2024-07-27T11:17:26.523575Z",
     "shell.execute_reply": "2024-07-27T11:17:26.522504Z"
    },
    "papermill": {
     "duration": 0.026685,
     "end_time": "2024-07-27T11:17:26.526003",
     "exception": false,
     "start_time": "2024-07-27T11:17:26.499318",
     "status": "completed"
    },
    "tags": []
   },
   "outputs": [],
   "source": [
    "n = int(0.8*len(data))\n",
    "train_data = data[:n]\n",
    "val_data = data[n:]"
   ]
  },
  {
   "cell_type": "code",
   "execution_count": 10,
   "id": "09ade533",
   "metadata": {
    "execution": {
     "iopub.execute_input": "2024-07-27T11:17:26.537182Z",
     "iopub.status.busy": "2024-07-27T11:17:26.536455Z",
     "iopub.status.idle": "2024-07-27T11:17:26.543330Z",
     "shell.execute_reply": "2024-07-27T11:17:26.542291Z"
    },
    "papermill": {
     "duration": 0.014452,
     "end_time": "2024-07-27T11:17:26.545767",
     "exception": false,
     "start_time": "2024-07-27T11:17:26.531315",
     "status": "completed"
    },
    "tags": []
   },
   "outputs": [],
   "source": [
    "def get_batch(split):\n",
    "  data = train_data if split == \"train\" else val_data\n",
    "  idx  = torch.randint(len(data) - block_size, (batch_size,))\n",
    "  x = torch.stack([data[i:i+block_size] for i in idx])\n",
    "  y = torch.stack([data[i+1:i+block_size+1] for i in idx])\n",
    "  x, y = x.to(device), y.to(device)\n",
    "  return x, y"
   ]
  },
  {
   "cell_type": "code",
   "execution_count": 11,
   "id": "a0baa687",
   "metadata": {
    "execution": {
     "iopub.execute_input": "2024-07-27T11:17:26.555764Z",
     "iopub.status.busy": "2024-07-27T11:17:26.554986Z",
     "iopub.status.idle": "2024-07-27T11:17:26.599657Z",
     "shell.execute_reply": "2024-07-27T11:17:26.598478Z"
    },
    "papermill": {
     "duration": 0.052461,
     "end_time": "2024-07-27T11:17:26.602321",
     "exception": false,
     "start_time": "2024-07-27T11:17:26.549860",
     "status": "completed"
    },
    "tags": []
   },
   "outputs": [],
   "source": [
    "x, y = get_batch(\"train\")"
   ]
  },
  {
   "cell_type": "code",
   "execution_count": 12,
   "id": "b294d482",
   "metadata": {
    "execution": {
     "iopub.execute_input": "2024-07-27T11:17:26.612177Z",
     "iopub.status.busy": "2024-07-27T11:17:26.611765Z",
     "iopub.status.idle": "2024-07-27T11:17:26.618751Z",
     "shell.execute_reply": "2024-07-27T11:17:26.617707Z"
    },
    "papermill": {
     "duration": 0.014586,
     "end_time": "2024-07-27T11:17:26.621057",
     "exception": false,
     "start_time": "2024-07-27T11:17:26.606471",
     "status": "completed"
    },
    "tags": []
   },
   "outputs": [],
   "source": [
    "@torch.no_grad()\n",
    "def estimate_loss():\n",
    "  out = {}\n",
    "  model.eval()\n",
    "  for split in [\"train\", \"val\"]:\n",
    "    losses = torch.zeros(eval_iters)\n",
    "    for k in range(eval_iters):\n",
    "      X, Y = get_batch(split)\n",
    "      logits, loss = model(X, Y)\n",
    "      losses[k] = loss.item()\n",
    "    out[split] = losses.mean()\n",
    "  model.train()\n",
    "  return out"
   ]
  },
  {
   "cell_type": "code",
   "execution_count": 13,
   "id": "d44a552e",
   "metadata": {
    "execution": {
     "iopub.execute_input": "2024-07-27T11:17:26.631351Z",
     "iopub.status.busy": "2024-07-27T11:17:26.630386Z",
     "iopub.status.idle": "2024-07-27T11:17:26.638799Z",
     "shell.execute_reply": "2024-07-27T11:17:26.637791Z"
    },
    "papermill": {
     "duration": 0.015695,
     "end_time": "2024-07-27T11:17:26.640934",
     "exception": false,
     "start_time": "2024-07-27T11:17:26.625239",
     "status": "completed"
    },
    "tags": []
   },
   "outputs": [],
   "source": [
    "class BigramLanguageModel(nn.Module):\n",
    "  def __init__(self, vocab_size):\n",
    "    super().__init__()\n",
    "    self.token_embedding_table = nn.Embedding(vocab_size, vocab_size)\n",
    "\n",
    "  def forward(self, index, targets=None):\n",
    "    logits = self.token_embedding_table(index)\n",
    "    if targets is None:\n",
    "      loss = None\n",
    "    else:\n",
    "      B, T, C = logits.shape\n",
    "      logits = logits.view(B*T, C)\n",
    "      targets = targets.view(B*T)\n",
    "      loss = F.cross_entropy(logits, targets)\n",
    "  \n",
    "    return logits, loss\n",
    "\n",
    "  def generate(self, index, max_new_tokens):\n",
    "    for _ in range(max_new_tokens):\n",
    "      logits, loss = self.forward(index)\n",
    "      logits = logits[:, -1, :]\n",
    "      probs = F.softmax(logits, dim=-1)\n",
    "      index_next = torch.multinomial(probs, num_samples=1)\n",
    "      index = torch.cat((index, index_next), dim=1)\n",
    "    return index"
   ]
  },
  {
   "cell_type": "code",
   "execution_count": 14,
   "id": "2e0ec79b",
   "metadata": {
    "execution": {
     "iopub.execute_input": "2024-07-27T11:17:26.650891Z",
     "iopub.status.busy": "2024-07-27T11:17:26.650523Z",
     "iopub.status.idle": "2024-07-27T11:17:26.658313Z",
     "shell.execute_reply": "2024-07-27T11:17:26.657331Z"
    },
    "papermill": {
     "duration": 0.015392,
     "end_time": "2024-07-27T11:17:26.660649",
     "exception": false,
     "start_time": "2024-07-27T11:17:26.645257",
     "status": "completed"
    },
    "tags": []
   },
   "outputs": [],
   "source": [
    "model = BigramLanguageModel(vocab_size=len(chars))\n",
    "model = model.to(device)"
   ]
  }
 ],
 "metadata": {
  "kaggle": {
   "accelerator": "none",
   "dataSources": [
    {
     "datasetId": 5423747,
     "sourceId": 9003231,
     "sourceType": "datasetVersion"
    }
   ],
   "dockerImageVersionId": 30746,
   "isGpuEnabled": false,
   "isInternetEnabled": true,
   "language": "python",
   "sourceType": "notebook"
  },
  "kernelspec": {
   "display_name": "Python 3",
   "language": "python",
   "name": "python3"
  },
  "language_info": {
   "codemirror_mode": {
    "name": "ipython",
    "version": 3
   },
   "file_extension": ".py",
   "mimetype": "text/x-python",
   "name": "python",
   "nbconvert_exporter": "python",
   "pygments_lexer": "ipython3",
   "version": "3.10.13"
  },
  "papermill": {
   "default_parameters": {},
   "duration": 7.410979,
   "end_time": "2024-07-27T11:17:27.486728",
   "environment_variables": {},
   "exception": null,
   "input_path": "__notebook__.ipynb",
   "output_path": "__notebook__.ipynb",
   "parameters": {},
   "start_time": "2024-07-27T11:17:20.075749",
   "version": "2.5.0"
  }
 },
 "nbformat": 4,
 "nbformat_minor": 5
}
